{
  "nbformat": 4,
  "nbformat_minor": 0,
  "metadata": {
    "colab": {
      "provenance": [],
      "authorship_tag": "ABX9TyN5Pb1+gUb76uPTxFKKl9x7",
      "include_colab_link": true
    },
    "kernelspec": {
      "name": "python3",
      "display_name": "Python 3"
    },
    "language_info": {
      "name": "python"
    }
  },
  "cells": [
    {
      "cell_type": "markdown",
      "metadata": {
        "id": "view-in-github",
        "colab_type": "text"
      },
      "source": [
        "<a href=\"https://colab.research.google.com/github/Parth-Kakdiya-13/TensorFlow/blob/main/One_hot_encoding.ipynb\" target=\"_parent\"><img src=\"https://colab.research.google.com/assets/colab-badge.svg\" alt=\"Open In Colab\"/></a>"
      ]
    },
    {
      "cell_type": "code",
      "source": [
        "import tensorflow as tf\n",
        "#create some list\n",
        "some_list = [0,1,2,3]\n",
        "tf.one_hot(some_list,depth=4)"
      ],
      "metadata": {
        "colab": {
          "base_uri": "https://localhost:8080/"
        },
        "id": "rTpu0-ZQT8KZ",
        "outputId": "df2080c5-ed1c-44e0-bcb9-9eda523c3e7f"
      },
      "execution_count": null,
      "outputs": [
        {
          "output_type": "execute_result",
          "data": {
            "text/plain": [
              "<tf.Tensor: shape=(4, 4), dtype=float32, numpy=\n",
              "array([[1., 0., 0., 0.],\n",
              "       [0., 1., 0., 0.],\n",
              "       [0., 0., 1., 0.],\n",
              "       [0., 0., 0., 1.]], dtype=float32)>"
            ]
          },
          "metadata": {},
          "execution_count": 2
        }
      ]
    },
    {
      "cell_type": "code",
      "source": [
        "# Specifies custome values for one hot encoder\n",
        "tf.one_hot(some_list,depth=4,on_value=\"I love deep learning\",off_value=\"I also like watching movies\")"
      ],
      "metadata": {
        "colab": {
          "base_uri": "https://localhost:8080/"
        },
        "id": "id8VkW_IUXFk",
        "outputId": "9bf3f52d-e9bf-4852-f576-b8dd07dc8ac0"
      },
      "execution_count": null,
      "outputs": [
        {
          "output_type": "execute_result",
          "data": {
            "text/plain": [
              "<tf.Tensor: shape=(4, 4), dtype=string, numpy=\n",
              "array([[b'I love deep learning', b'I also like watching movies',\n",
              "        b'I also like watching movies', b'I also like watching movies'],\n",
              "       [b'I also like watching movies', b'I love deep learning',\n",
              "        b'I also like watching movies', b'I also like watching movies'],\n",
              "       [b'I also like watching movies', b'I also like watching movies',\n",
              "        b'I love deep learning', b'I also like watching movies'],\n",
              "       [b'I also like watching movies', b'I also like watching movies',\n",
              "        b'I also like watching movies', b'I love deep learning']],\n",
              "      dtype=object)>"
            ]
          },
          "metadata": {},
          "execution_count": 3
        }
      ]
    },
    {
      "cell_type": "markdown",
      "source": [
        "**Sqaring, log, square root**\n",
        "\n",
        "---\n",
        "\n"
      ],
      "metadata": {
        "id": "cHjdiGmXUt__"
      }
    },
    {
      "cell_type": "code",
      "source": [
        "# create a tensor\n",
        "H = tf.range(1,10)\n",
        "H"
      ],
      "metadata": {
        "colab": {
          "base_uri": "https://localhost:8080/"
        },
        "id": "c7mzn7L2U0Y0",
        "outputId": "ad281e0a-fb68-4e13-f25c-6452e83f18cc"
      },
      "execution_count": null,
      "outputs": [
        {
          "output_type": "execute_result",
          "data": {
            "text/plain": [
              "<tf.Tensor: shape=(9,), dtype=int32, numpy=array([1, 2, 3, 4, 5, 6, 7, 8, 9], dtype=int32)>"
            ]
          },
          "metadata": {},
          "execution_count": 4
        }
      ]
    },
    {
      "cell_type": "markdown",
      "source": [
        "**To find the square root, non-int type values are require**\n",
        "\n",
        "---\n",
        "\n",
        "\n",
        "\n",
        "---\n",
        "\n",
        "*italicized text*"
      ],
      "metadata": {
        "id": "IJVGZ77e4UcM"
      }
    },
    {
      "cell_type": "markdown",
      "source": [],
      "metadata": {
        "id": "VqD3EBkL4UZe"
      }
    },
    {
      "cell_type": "code",
      "source": [
        "# square root\n",
        "tf.sqrt(tf.cast(H,dtype=tf.float32))"
      ],
      "metadata": {
        "colab": {
          "base_uri": "https://localhost:8080/"
        },
        "id": "YboDeQPTVCy8",
        "outputId": "525bb566-24e7-4548-e604-89d45ad2ee9b"
      },
      "execution_count": null,
      "outputs": [
        {
          "output_type": "execute_result",
          "data": {
            "text/plain": [
              "<tf.Tensor: shape=(9,), dtype=float32, numpy=\n",
              "array([1.       , 1.4142135, 1.7320508, 2.       , 2.236068 , 2.4494898,\n",
              "       2.6457512, 2.828427 , 3.       ], dtype=float32)>"
            ]
          },
          "metadata": {},
          "execution_count": 5
        }
      ]
    },
    {
      "cell_type": "markdown",
      "source": [
        "**To find the log, non-int type values are require**\n",
        "\n",
        "---\n",
        "\n"
      ],
      "metadata": {
        "id": "gfLN9eJM5umJ"
      }
    },
    {
      "cell_type": "code",
      "source": [
        "# Find log\n",
        "tf.math.log(tf.cast(H,dtype=tf.float32))"
      ],
      "metadata": {
        "colab": {
          "base_uri": "https://localhost:8080/"
        },
        "id": "XYApZ_9k5D0P",
        "outputId": "f43b5ca9-c641-4669-cf30-3f2eba656aff"
      },
      "execution_count": null,
      "outputs": [
        {
          "output_type": "execute_result",
          "data": {
            "text/plain": [
              "<tf.Tensor: shape=(9,), dtype=float32, numpy=\n",
              "array([0.       , 0.6931472, 1.0986123, 1.3862944, 1.609438 , 1.7917595,\n",
              "       1.9459102, 2.0794415, 2.1972246], dtype=float32)>"
            ]
          },
          "metadata": {},
          "execution_count": 6
        }
      ]
    },
    {
      "cell_type": "code",
      "source": [],
      "metadata": {
        "id": "3KYOylqO57VO"
      },
      "execution_count": null,
      "outputs": []
    }
  ]
}